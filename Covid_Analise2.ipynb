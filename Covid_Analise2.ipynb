{
  "nbformat": 4,
  "nbformat_minor": 0,
  "metadata": {
    "colab": {
      "name": "Covid-Analise2.ipynb",
      "provenance": [],
      "mount_file_id": "1NbO-IxIvOPEt84rDUWdmfjD-dKaXPzWN",
      "authorship_tag": "ABX9TyObuax+oNCR2md1LL1ze0BQ",
      "include_colab_link": true
    },
    "kernelspec": {
      "name": "python3",
      "display_name": "Python 3"
    },
    "language_info": {
      "name": "python"
    }
  },
  "cells": [
    {
      "cell_type": "markdown",
      "metadata": {
        "id": "view-in-github",
        "colab_type": "text"
      },
      "source": [
        "<a href=\"https://colab.research.google.com/github/GeraldoLucas/Covid-analise-DNC/blob/main/Covid_Analise2.ipynb\" target=\"_parent\"><img src=\"https://colab.research.google.com/assets/colab-badge.svg\" alt=\"Open In Colab\"/></a>"
      ]
    },
    {
      "cell_type": "markdown",
      "metadata": {
        "id": "f1asrqAlve4E"
      },
      "source": [
        "Após o download do arquivo em .csv que possui cerca de 630 MB, o arquivo foi importado em um editor de texto (Pycharm, no meu caso), e , logo em seguida, foi selecionado algumas das várias colunas disponilibilizadas pelo Ministério da Saúde, a ficha de notificação e o dicionario dos dados estão destacados:\n",
        "\n",
        "\n",
        "*   [FICHA DE REGISTRO INDIVIDUAL (SRAG) ](https://opendatasus.saude.gov.br/dataset/ae90fa8f-3e94-467e-a33f-94adbb66edf8/resource/54a46c6d-e0b5-40b7-8b74-85450d22ace3/download/ficha-srag-final-27.07.2020_final.pdf)\n",
        "*   [Dicionário de Dados ](https://opendatasus.saude.gov.br/dataset/ae90fa8f-3e94-467e-a33f-94adbb66edf8/resource/8f571374-c555-4ec0-8e44-00b1e8b11c25/download/dicionario-de-dados-srag-hospitalizado-27.07.2020-final.pdf)\n"
      ]
    },
    {
      "cell_type": "code",
      "metadata": {
        "id": "56AKUsJavZEC"
      },
      "source": [
        "# Importação de bibliotecas necessárias\n",
        "import pandas as pd\n",
        "import numpy as np\n",
        "import matplotlib.pyplot as plt\n",
        "import seaborn as sns\n",
        "\n",
        "pd.set_option('display.max_columns', None)\n",
        "pd.set_option('display.width', None)\n",
        "pd.set_option('display.max_colwidth', 0)\n",
        "\n",
        "# Importar dos dados sobre Doenças Neurológicas Crônicas em pacientes com Covid para um DataFrame\n",
        "uri = r\"C:/Users/***/***/******/*****/********/******/INFLUD-15-03-2021.csv\"\n",
        "dF = pd.read_csv(uri, sep=';',\n",
        "                 error_bad_lines=True,\n",
        "                 warn_bad_lines=True,\n",
        "                 engine=\"python\",\n",
        "                 encoding='UTF-8')\n",
        "\n",
        "print(f\"Número total de Casos considerados: {dF.shape[0]}\")\n",
        "\n",
        "# Selecionando colunas consideradas na análise\n",
        "dF_columns = ['ID_MUNICIP',\n",
        "              'NU_IDADE_N',\n",
        "              'CS_SEXO',\n",
        "              'DT_SIN_PRI',\n",
        "              'NEUROLOGIC',\n",
        "              'PERD_OLFT',\n",
        "              'PERD_PALA',\n",
        "              'CLASSI_FIN',\n",
        "              'CRITERIO',\n",
        "              'EVOLUCAO',]\n",
        "\n",
        "dF_review = dF.loc[:, dF_columns].copy()\n",
        "\n",
        "# Exportando a tabela gerada para um novo Csv para trabalho de dados\n",
        "dF_review.to_csv('dF_review.csv', index=False)"
      ],
      "execution_count": null,
      "outputs": []
    },
    {
      "cell_type": "markdown",
      "metadata": {
        "id": "0xbpB8Hcv09n"
      },
      "source": [
        "O conjunto de dados contém 1.186.861 linhas e 154 colunas.  \n",
        "\n",
        "---\n",
        "\n",
        "Considerando o grande volume de informações, o primeiro a ser feito foi o recolhimento de registros específicos úteis na análise como, município, idade, sexo, Doença Neurológica Crônica etc."
      ]
    },
    {
      "cell_type": "code",
      "metadata": {
        "colab": {
          "base_uri": "https://localhost:8080/"
        },
        "id": "X0okVZlqv7uQ",
        "outputId": "0fe0a6c2-fa60-48d4-e529-f549dc5ee3a3"
      },
      "source": [
        "# Importação bibliotecas necessárias\n",
        "import numpy as np\n",
        "import pandas as pd\n",
        "import matplotlib.pyplot as plt\n",
        "import seaborn as sns\n",
        "\n",
        "uri = \"drive/MyDrive/dF_review.csv\"\n",
        "\n",
        "dataFrame = pd.read_csv(uri,                  \n",
        "                 error_bad_lines=True,\n",
        "                 warn_bad_lines=True,\n",
        "                 engine=\"python\",\n",
        "                 encoding='UTF-8')\n",
        "\n",
        "# Número de Casos Iniciais considerados: 1.186.861 linhas e 10 colunas.\n",
        "print(f\"Totais  de Casos: {dataFrame.shape[0]} linhas e {dataFrame.shape[1]} colunas.\")\n",
        "\n",
        "# Considerando apenas dados válidos do Universo\n",
        "dataFrame = dataFrame.dropna(subset=[\"NEUROLOGIC\", \n",
        "                                     \"PERD_OLFT\", \n",
        "                                     \"PERD_PALA\", \n",
        "                                    ])\n",
        "\n",
        "# Casos úteis considerados: 303.225  linhas e 10 colunas.\n",
        "print(f\"Casos úteis considerados: {dataFrame.shape[0]} linhas e {dataFrame.shape[1]} colunas.\")"
      ],
      "execution_count": 9,
      "outputs": [
        {
          "output_type": "stream",
          "text": [
            "Totais  de Casos: 1186861 linhas e 10 colunas.\n",
            "Casos úteis considerados: 303225 linhas e 10 colunas.\n"
          ],
          "name": "stdout"
        }
      ]
    },
    {
      "cell_type": "markdown",
      "metadata": {
        "id": "paUGsPg02TkU"
      },
      "source": [
        "Realizado o tratamento inicial dos dados considerando apenas valores numéricos, respondidos no registro de paciente, além disso buscamos os pacientes que tiveram \"Sim\" para DNC e \"Positivo\" para Covid."
      ]
    },
    {
      "cell_type": "code",
      "metadata": {
        "colab": {
          "base_uri": "https://localhost:8080/",
          "height": 772
        },
        "id": "ivN2XGpkyP3u",
        "outputId": "891c3e78-c1a9-4d1d-e4a1-4119446cfb36"
      },
      "source": [
        "# Pacientes com Covid: 178251 linhas.\n",
        "dF_pacientes_covid = dataFrame.loc[dataFrame[\"CLASSI_FIN\"] == 5]\n",
        "\n",
        "# Pacientes com Covid e DNC: 12704 linhas.\n",
        "dF_pacientes_dnc = dF_pacientes_covid.loc[dataFrame[\"NEUROLOGIC\"] == 1]\n",
        "\n",
        "# Pacientes com Covid e Sem DNC: 12704 linhas.\n",
        "dF_pacientes_sem_dnc = dF_pacientes_covid.loc[dataFrame[\"NEUROLOGIC\"] == 2]\n",
        "\n",
        "print(f\"O paciente mais velho com DNC e covid: {dF_pacientes_dnc['NU_IDADE_N'].max()} anos.\")\n",
        "print(f\"Média Geral de idade dos paciente com DNC e covid: {dF_pacientes_dnc['NU_IDADE_N'].mean():.2f} anos.\")\n",
        "print(f\"Diferença de Infecção entre sexos: \\n{dF_pacientes_dnc.CS_SEXO.value_counts(normalize=False)}\")\n",
        "dF_pacientes_dnc.head(20)"
      ],
      "execution_count": 53,
      "outputs": [
        {
          "output_type": "stream",
          "text": [
            "O paciente mais velho com DNC e covid: 110 anos.\n",
            "Média Geral de idade dos paciente com DNC e covid: 71.29 anos.\n",
            "Diferença de Infecção entre sexos: \n",
            "M    6424\n",
            "F    6279\n",
            "I       1\n",
            "Name: CS_SEXO, dtype: int64\n"
          ],
          "name": "stdout"
        },
        {
          "output_type": "execute_result",
          "data": {
            "text/html": [
              "<div>\n",
              "<style scoped>\n",
              "    .dataframe tbody tr th:only-of-type {\n",
              "        vertical-align: middle;\n",
              "    }\n",
              "\n",
              "    .dataframe tbody tr th {\n",
              "        vertical-align: top;\n",
              "    }\n",
              "\n",
              "    .dataframe thead th {\n",
              "        text-align: right;\n",
              "    }\n",
              "</style>\n",
              "<table border=\"1\" class=\"dataframe\">\n",
              "  <thead>\n",
              "    <tr style=\"text-align: right;\">\n",
              "      <th></th>\n",
              "      <th>ID_MUNICIP</th>\n",
              "      <th>NU_IDADE_N</th>\n",
              "      <th>CS_SEXO</th>\n",
              "      <th>DT_SIN_PRI</th>\n",
              "      <th>NEUROLOGIC</th>\n",
              "      <th>PERD_OLFT</th>\n",
              "      <th>PERD_PALA</th>\n",
              "      <th>CLASSI_FIN</th>\n",
              "      <th>CRITERIO</th>\n",
              "      <th>EVOLUCAO</th>\n",
              "    </tr>\n",
              "  </thead>\n",
              "  <tbody>\n",
              "    <tr>\n",
              "      <th>3216</th>\n",
              "      <td>CONTAGEM</td>\n",
              "      <td>90</td>\n",
              "      <td>F</td>\n",
              "      <td>06/07/2020</td>\n",
              "      <td>1.0</td>\n",
              "      <td>2.0</td>\n",
              "      <td>2.0</td>\n",
              "      <td>5.0</td>\n",
              "      <td>2.0</td>\n",
              "      <td>2.0</td>\n",
              "    </tr>\n",
              "    <tr>\n",
              "      <th>3733</th>\n",
              "      <td>ARACAJU</td>\n",
              "      <td>77</td>\n",
              "      <td>M</td>\n",
              "      <td>19/07/2020</td>\n",
              "      <td>1.0</td>\n",
              "      <td>2.0</td>\n",
              "      <td>2.0</td>\n",
              "      <td>5.0</td>\n",
              "      <td>1.0</td>\n",
              "      <td>2.0</td>\n",
              "    </tr>\n",
              "    <tr>\n",
              "      <th>3966</th>\n",
              "      <td>SAO PAULO</td>\n",
              "      <td>82</td>\n",
              "      <td>F</td>\n",
              "      <td>25/07/2020</td>\n",
              "      <td>1.0</td>\n",
              "      <td>2.0</td>\n",
              "      <td>2.0</td>\n",
              "      <td>5.0</td>\n",
              "      <td>1.0</td>\n",
              "      <td>1.0</td>\n",
              "    </tr>\n",
              "    <tr>\n",
              "      <th>4010</th>\n",
              "      <td>SAO JOSE DO RIO PRETO</td>\n",
              "      <td>75</td>\n",
              "      <td>F</td>\n",
              "      <td>30/07/2020</td>\n",
              "      <td>1.0</td>\n",
              "      <td>2.0</td>\n",
              "      <td>2.0</td>\n",
              "      <td>5.0</td>\n",
              "      <td>1.0</td>\n",
              "      <td>2.0</td>\n",
              "    </tr>\n",
              "    <tr>\n",
              "      <th>4027</th>\n",
              "      <td>ANAPOLIS</td>\n",
              "      <td>71</td>\n",
              "      <td>F</td>\n",
              "      <td>18/07/2020</td>\n",
              "      <td>1.0</td>\n",
              "      <td>2.0</td>\n",
              "      <td>2.0</td>\n",
              "      <td>5.0</td>\n",
              "      <td>1.0</td>\n",
              "      <td>2.0</td>\n",
              "    </tr>\n",
              "    <tr>\n",
              "      <th>4047</th>\n",
              "      <td>SANTA MARIA</td>\n",
              "      <td>75</td>\n",
              "      <td>M</td>\n",
              "      <td>09/08/2020</td>\n",
              "      <td>1.0</td>\n",
              "      <td>2.0</td>\n",
              "      <td>2.0</td>\n",
              "      <td>5.0</td>\n",
              "      <td>1.0</td>\n",
              "      <td>2.0</td>\n",
              "    </tr>\n",
              "    <tr>\n",
              "      <th>4071</th>\n",
              "      <td>AMERICO BRASILIENSE</td>\n",
              "      <td>29</td>\n",
              "      <td>F</td>\n",
              "      <td>25/07/2020</td>\n",
              "      <td>1.0</td>\n",
              "      <td>2.0</td>\n",
              "      <td>2.0</td>\n",
              "      <td>5.0</td>\n",
              "      <td>1.0</td>\n",
              "      <td>2.0</td>\n",
              "    </tr>\n",
              "    <tr>\n",
              "      <th>4154</th>\n",
              "      <td>GOIANIA</td>\n",
              "      <td>75</td>\n",
              "      <td>F</td>\n",
              "      <td>30/07/2020</td>\n",
              "      <td>1.0</td>\n",
              "      <td>2.0</td>\n",
              "      <td>2.0</td>\n",
              "      <td>5.0</td>\n",
              "      <td>1.0</td>\n",
              "      <td>2.0</td>\n",
              "    </tr>\n",
              "    <tr>\n",
              "      <th>4177</th>\n",
              "      <td>TERESINA</td>\n",
              "      <td>84</td>\n",
              "      <td>M</td>\n",
              "      <td>12/07/2020</td>\n",
              "      <td>1.0</td>\n",
              "      <td>2.0</td>\n",
              "      <td>2.0</td>\n",
              "      <td>5.0</td>\n",
              "      <td>1.0</td>\n",
              "      <td>2.0</td>\n",
              "    </tr>\n",
              "    <tr>\n",
              "      <th>4257</th>\n",
              "      <td>SAO BERNARDO DO CAMPO</td>\n",
              "      <td>75</td>\n",
              "      <td>M</td>\n",
              "      <td>16/07/2020</td>\n",
              "      <td>1.0</td>\n",
              "      <td>2.0</td>\n",
              "      <td>2.0</td>\n",
              "      <td>5.0</td>\n",
              "      <td>1.0</td>\n",
              "      <td>2.0</td>\n",
              "    </tr>\n",
              "    <tr>\n",
              "      <th>4310</th>\n",
              "      <td>SAO PAULO</td>\n",
              "      <td>76</td>\n",
              "      <td>M</td>\n",
              "      <td>03/08/2020</td>\n",
              "      <td>1.0</td>\n",
              "      <td>2.0</td>\n",
              "      <td>2.0</td>\n",
              "      <td>5.0</td>\n",
              "      <td>1.0</td>\n",
              "      <td>2.0</td>\n",
              "    </tr>\n",
              "    <tr>\n",
              "      <th>4325</th>\n",
              "      <td>RECIFE</td>\n",
              "      <td>51</td>\n",
              "      <td>M</td>\n",
              "      <td>10/04/2020</td>\n",
              "      <td>1.0</td>\n",
              "      <td>1.0</td>\n",
              "      <td>1.0</td>\n",
              "      <td>5.0</td>\n",
              "      <td>1.0</td>\n",
              "      <td>1.0</td>\n",
              "    </tr>\n",
              "    <tr>\n",
              "      <th>4340</th>\n",
              "      <td>CATANDUVA</td>\n",
              "      <td>70</td>\n",
              "      <td>M</td>\n",
              "      <td>01/08/2020</td>\n",
              "      <td>1.0</td>\n",
              "      <td>9.0</td>\n",
              "      <td>9.0</td>\n",
              "      <td>5.0</td>\n",
              "      <td>1.0</td>\n",
              "      <td>2.0</td>\n",
              "    </tr>\n",
              "    <tr>\n",
              "      <th>4368</th>\n",
              "      <td>TERESINA</td>\n",
              "      <td>76</td>\n",
              "      <td>F</td>\n",
              "      <td>26/07/2020</td>\n",
              "      <td>1.0</td>\n",
              "      <td>2.0</td>\n",
              "      <td>2.0</td>\n",
              "      <td>5.0</td>\n",
              "      <td>1.0</td>\n",
              "      <td>2.0</td>\n",
              "    </tr>\n",
              "    <tr>\n",
              "      <th>4405</th>\n",
              "      <td>BRASILIA</td>\n",
              "      <td>64</td>\n",
              "      <td>M</td>\n",
              "      <td>15/08/2020</td>\n",
              "      <td>1.0</td>\n",
              "      <td>1.0</td>\n",
              "      <td>1.0</td>\n",
              "      <td>5.0</td>\n",
              "      <td>1.0</td>\n",
              "      <td>1.0</td>\n",
              "    </tr>\n",
              "    <tr>\n",
              "      <th>4421</th>\n",
              "      <td>PELOTAS</td>\n",
              "      <td>55</td>\n",
              "      <td>F</td>\n",
              "      <td>17/08/2020</td>\n",
              "      <td>1.0</td>\n",
              "      <td>2.0</td>\n",
              "      <td>2.0</td>\n",
              "      <td>5.0</td>\n",
              "      <td>1.0</td>\n",
              "      <td>2.0</td>\n",
              "    </tr>\n",
              "    <tr>\n",
              "      <th>4472</th>\n",
              "      <td>SAO BERNARDO DO CAMPO</td>\n",
              "      <td>70</td>\n",
              "      <td>M</td>\n",
              "      <td>15/06/2020</td>\n",
              "      <td>1.0</td>\n",
              "      <td>1.0</td>\n",
              "      <td>2.0</td>\n",
              "      <td>5.0</td>\n",
              "      <td>1.0</td>\n",
              "      <td>2.0</td>\n",
              "    </tr>\n",
              "    <tr>\n",
              "      <th>4525</th>\n",
              "      <td>LONDRINA</td>\n",
              "      <td>71</td>\n",
              "      <td>F</td>\n",
              "      <td>15/08/2020</td>\n",
              "      <td>1.0</td>\n",
              "      <td>2.0</td>\n",
              "      <td>2.0</td>\n",
              "      <td>5.0</td>\n",
              "      <td>1.0</td>\n",
              "      <td>2.0</td>\n",
              "    </tr>\n",
              "    <tr>\n",
              "      <th>4540</th>\n",
              "      <td>JARDIM</td>\n",
              "      <td>69</td>\n",
              "      <td>F</td>\n",
              "      <td>05/08/2020</td>\n",
              "      <td>1.0</td>\n",
              "      <td>2.0</td>\n",
              "      <td>2.0</td>\n",
              "      <td>5.0</td>\n",
              "      <td>1.0</td>\n",
              "      <td>1.0</td>\n",
              "    </tr>\n",
              "    <tr>\n",
              "      <th>4574</th>\n",
              "      <td>MUCURI</td>\n",
              "      <td>40</td>\n",
              "      <td>F</td>\n",
              "      <td>02/08/2020</td>\n",
              "      <td>1.0</td>\n",
              "      <td>1.0</td>\n",
              "      <td>1.0</td>\n",
              "      <td>5.0</td>\n",
              "      <td>1.0</td>\n",
              "      <td>1.0</td>\n",
              "    </tr>\n",
              "  </tbody>\n",
              "</table>\n",
              "</div>"
            ],
            "text/plain": [
              "                 ID_MUNICIP  NU_IDADE_N CS_SEXO  ... CLASSI_FIN  CRITERIO  EVOLUCAO\n",
              "3216               CONTAGEM          90       F  ...        5.0       2.0       2.0\n",
              "3733                ARACAJU          77       M  ...        5.0       1.0       2.0\n",
              "3966              SAO PAULO          82       F  ...        5.0       1.0       1.0\n",
              "4010  SAO JOSE DO RIO PRETO          75       F  ...        5.0       1.0       2.0\n",
              "4027               ANAPOLIS          71       F  ...        5.0       1.0       2.0\n",
              "4047            SANTA MARIA          75       M  ...        5.0       1.0       2.0\n",
              "4071    AMERICO BRASILIENSE          29       F  ...        5.0       1.0       2.0\n",
              "4154                GOIANIA          75       F  ...        5.0       1.0       2.0\n",
              "4177               TERESINA          84       M  ...        5.0       1.0       2.0\n",
              "4257  SAO BERNARDO DO CAMPO          75       M  ...        5.0       1.0       2.0\n",
              "4310              SAO PAULO          76       M  ...        5.0       1.0       2.0\n",
              "4325                 RECIFE          51       M  ...        5.0       1.0       1.0\n",
              "4340              CATANDUVA          70       M  ...        5.0       1.0       2.0\n",
              "4368               TERESINA          76       F  ...        5.0       1.0       2.0\n",
              "4405               BRASILIA          64       M  ...        5.0       1.0       1.0\n",
              "4421                PELOTAS          55       F  ...        5.0       1.0       2.0\n",
              "4472  SAO BERNARDO DO CAMPO          70       M  ...        5.0       1.0       2.0\n",
              "4525               LONDRINA          71       F  ...        5.0       1.0       2.0\n",
              "4540                 JARDIM          69       F  ...        5.0       1.0       1.0\n",
              "4574                 MUCURI          40       F  ...        5.0       1.0       1.0\n",
              "\n",
              "[20 rows x 10 columns]"
            ]
          },
          "metadata": {
            "tags": []
          },
          "execution_count": 53
        }
      ]
    },
    {
      "cell_type": "markdown",
      "metadata": {
        "id": "8A1KoPCO2p4j"
      },
      "source": [
        "### Contagem de infecção para pacientes do grupo de risco para DNC\n",
        "\n",
        "Uma primeira análise feita diz respeito ao número de acometidos pela Covid com DNC e a tendência do gráfico. Nesse sentido, uma informação facilmente percebida no gráfico é que **há mais pacientes idosos na relação**, além de uma **taxa de óbitos de cerca de 51%**, muito maior que em pacientes sem DNC. \n"
      ]
    },
    {
      "cell_type": "code",
      "metadata": {
        "colab": {
          "base_uri": "https://localhost:8080/",
          "height": 312
        },
        "id": "7u-hZTjw3KMO",
        "outputId": "fbe3c449-aebb-4312-9bf7-4bfc5f890d84"
      },
      "source": [
        "# Distribuição etária para DNC infectados\n",
        "age = dF_pacientes_dnc[\"NU_IDADE_N\"].value_counts(normalize=False)\n",
        "interval = (dF_pacientes_dnc['NU_IDADE_N'].max() - dF_pacientes_dnc['NU_IDADE_N'].min())\n",
        "\n",
        "dF_pacientes_dnc.hist(column=\"NU_IDADE_N\", bins=interval)\n",
        "plt.xlabel('Idade')\n",
        "plt.ylabel('Número de Casos')\n",
        "plt.title(f\"Contagem de infecção para pacientes com DNC\")\n",
        "plt.grid(True)\n",
        "plt.show()\n",
        "\n",
        "# Taxa Percentual de Óbitos para DCN infectados\n",
        "dF_obitos = dF_pacientes_dnc.loc[dF_pacientes_dnc[\"EVOLUCAO\"] == 2].shape[0]\n",
        "dF_total = dF_pacientes_dnc['EVOLUCAO'].shape[0]\n",
        "\n",
        "print(f\"Taxa de óbitos para DCN infectados: {(dF_obitos / dF_total):.2f}.\")"
      ],
      "execution_count": 49,
      "outputs": [
        {
          "output_type": "display_data",
          "data": {
            "image/png": "[encoded data removed]",
            "text/plain": [
              "<Figure size 432x288 with 1 Axes>"
            ]
          },
          "metadata": {
            "tags": [],
            "needs_background": "light"
          }
        },
        {
          "output_type": "stream",
          "text": [
            "Taxa de óbitos para DCN infectados: 0.51.\n"
          ],
          "name": "stdout"
        }
      ]
    },
    {
      "cell_type": "markdown",
      "metadata": {
        "id": "IhGtzuNj5a_V"
      },
      "source": [
        "### 1°) O Covid-19 interfere nos receptores de olfato ao cérebro (Anosmia). \n",
        "\n",
        "Na análise percentual dos dados de pacientes que relataram algum tipo de perda de olfato, obteve-se os seguintes resultados; \n",
        "> Naqueles que **não possuiam DNC, um total 17.909 casos (cerca de 11,44% do total dos casos sem DNC)**.\n",
        "\n",
        "> Enquanto que naqueles que **possuiam DNC, um total de 761 casos (cerca de 6,40% dos casos de DNC)**."
      ]
    },
    {
      "cell_type": "code",
      "metadata": {
        "id": "JZOoiEE75dML"
      },
      "source": [
        "# Pacientes com DNC e Perda de Olfato\n",
        "dF_dnc_olfat = dF_pacientes_dnc.loc[dF_pacientes_dnc[\"PERD_OLFT\"] != 9]\n",
        "\n",
        "dnc_positive_olfat = dF_dnc_olfat.PERD_OLFT.value_counts(normalize=False)[1]\n",
        "dnc_negative_olfat = dF_dnc_olfat[\"PERD_OLFT\"].value_counts(normalize=False)[2]\n",
        "tot = (dnc_positive_olfat + dnc_negative_olfat) / 100\n",
        "\n",
        "print(f\"Pacientes com DNC e Perda de Olfato: {dnc_positive_olfat}, percentual {(dnc_positive_olfat / tot):.2f}%\")\n",
        "print(f\"{dnc_positive_olfat}, {dnc_negative_olfat}.\")\n",
        "\n",
        "print(\"=-=-\" * 15 + \"=-=\")\n",
        "\n",
        "\n",
        "# Pacientes sem DNC e Perda de Olfato\n",
        "dF_nDnc_olfat = dF_pacientes_sem_dnc.loc[dF_pacientes_sem_dnc[\"PERD_OLFT\"] != 9]\n",
        "\n",
        "nDnc_positive_olfat = dF_nDnc_olfat[\"PERD_OLFT\"].value_counts(normalize=False)[1]\n",
        "nDnc_negative_olfat = dF_nDnc_olfat[\"PERD_OLFT\"].value_counts(normalize=False)[2]\n",
        "tot2 = (nDnc_positive_olfat + nDnc_negative_olfat) / 100\n",
        "\n",
        "print(f\"Pacientes SEM DNC e Perda de Olfato: {nDnc_positive_olfat}, percentual {(nDnc_positive_olfat / tot2):.2f}%\")\n",
        "print(f\"{nDnc_positive_olfat}, {nDnc_negative_olfat}.\")"
      ],
      "execution_count": null,
      "outputs": []
    },
    {
      "cell_type": "markdown",
      "metadata": {
        "id": "6CvMTPnQE1n9"
      },
      "source": [
        "### 2°) O Covid-19 interfere nos receptores que levam o paladar ao cérebro (Disgeusia).\n",
        "Na análise percentual dos dados de pacientes que relataram algum tipo de perda de paladar, obteve-se os seguintes resultados;\n",
        "\n",
        "Naqueles que **não possuiam DNC, um total 18.331 casos (cerca de 11.71% do total dos casos sem DNC).**\n",
        "\n",
        "Enquanto que naqueles que **possuiam DNC, um total de 777 casos (cerca de 6.54% dos casos de DNC).**"
      ]
    },
    {
      "cell_type": "code",
      "metadata": {
        "colab": {
          "base_uri": "https://localhost:8080/"
        },
        "id": "VyHf37DEE_id",
        "outputId": "6e991a39-e8dc-490f-a7b0-3f0943e4368a"
      },
      "source": [
        "# Pacientes com DNC e Perda de Paladar\n",
        "dF_dnc_palad = dF_pacientes_dnc.loc[dF_pacientes_dnc[\"PERD_PALA\"] != 9]\n",
        "\n",
        "dnc_positive_palad = dF_dnc_palad.PERD_PALA.value_counts(normalize=False)[1]\n",
        "dnc_negative_palad = dF_dnc_palad[\"PERD_PALA\"].value_counts(normalize=False)[2]\n",
        "tot3 = (dnc_positive_palad + dnc_negative_palad) / 100\n",
        "\n",
        "print(f\"Pacientes com DNC e Perda de Paladar: {dnc_positive_palad}, percentual {(dnc_positive_palad / tot3):.2f}%\")\n",
        "print(f\"{dnc_positive_palad}, {dnc_negative_palad}.\")\n",
        "\n",
        "print(\"=-=-\" * 15 + \"=-=\")\n",
        "\n",
        "\n",
        "# Pacientes sem DNC e Perda de Olfato\n",
        "dF_nDnc_palad = dF_pacientes_sem_dnc.loc[dF_pacientes_sem_dnc[\"PERD_PALA\"] != 9]\n",
        "\n",
        "nDnc_positive_palad = dF_nDnc_palad[\"PERD_PALA\"].value_counts(normalize=False)[1]\n",
        "nDnc_negative_palad = dF_nDnc_palad[\"PERD_PALA\"].value_counts(normalize=False)[2]\n",
        "tot4 = (nDnc_positive_palad + nDnc_negative_palad) / 100\n",
        "\n",
        "print(f\"Pacientes SEM DNC e Perda de Olfato: {nDnc_positive_palad}, percentual {(nDnc_positive_palad / tot4):.2f}%\")\n",
        "print(f\"{nDnc_positive_palad}, {nDnc_negative_palad}.\")"
      ],
      "execution_count": 87,
      "outputs": [
        {
          "output_type": "stream",
          "text": [
            "Pacientes com DNC e Perda de Paladar: 777, percentual 6.54%\n",
            "777, 11098.\n",
            "=-=-=-=-=-=-=-=-=-=-=-=-=-=-=-=-=-=-=-=-=-=-=-=-=-=-=-=-=-=-=-=\n",
            "Pacientes SEM DNC e Perda de Olfato: 18331, percentual 11.71%\n",
            "18331, 138189.\n"
          ],
          "name": "stdout"
        }
      ]
    },
    {
      "cell_type": "markdown",
      "metadata": {
        "id": "ddfU1e6dIKC6"
      },
      "source": [
        "### Dupla análise de Anosmia e Disgeusia\n",
        "Na análise percentual dos dados de pacientes que relataram algum tipo de perda de paladar e de olfato, obteve-se os seguintes resultados;\n",
        "\n",
        "Naqueles que **não possuiam DNC, um total 14.045 casos (cerca de 8,98% do total dos casos sem DNC).**\n",
        "\n",
        "Enquanto que naqueles que **possuiam DNC, um total de 562 casos (cerca de 4,74% dos casos de DNC).**"
      ]
    },
    {
      "cell_type": "code",
      "metadata": {
        "colab": {
          "base_uri": "https://localhost:8080/"
        },
        "id": "uKlqgEVmIU6S",
        "outputId": "c89575fb-9edc-47c3-889f-5e2db2ed1734"
      },
      "source": [
        "# Dados de DNC que tiveram perda de olfato e paladar\n",
        "dF_dnc_olfat_palad = dF_pacientes_dnc.loc[dF_pacientes_dnc[\"PERD_OLFT\"] != 9]\n",
        "dF_dnc_olfat_palad = dF_dnc_olfat_palad[dF_dnc_olfat_palad[\"PERD_PALA\"] != 9]\n",
        "tot_olfat_palad = dF_dnc_olfat_palad.copy()\n",
        "\n",
        "dF_dnc_olfat_palad = dF_dnc_olfat_palad.loc[dF_dnc_olfat_palad[\"PERD_OLFT\"] == 1]\n",
        "dF_dnc_olfat_palad = dF_dnc_olfat_palad.loc[dF_dnc_olfat_palad[\"PERD_PALA\"] == 1]\n",
        "\n",
        "dnc_positive_olfat_palad = dF_dnc_olfat_palad.shape[0]\n",
        "tot5 = tot_olfat_palad.shape[0] / 100\n",
        "\n",
        "print(f\"DNC com perda de paladar e olfato: {dnc_positive_olfat_palad}, percentualmente: {(dnc_positive_olfat_palad / tot5):.2f}%\")\n",
        "print(f\"{dnc_positive_olfat_palad}, {tot_olfat_palad.shape[0] - dnc_positive_olfat_palad}.\")\n",
        "\n",
        "\n",
        "print(\"=-=-\" * 15 + \"=-=\")\n",
        "# Pacientes sem DNC e Perda de Olfato e Paladar\n",
        "dF_nDnc_olfat_palad = dF_pacientes_sem_dnc.loc[dF_pacientes_sem_dnc[\"PERD_OLFT\"] != 9]\n",
        "dF_nDnc_olfat_palad = dF_nDnc_olfat_palad.loc[dF_nDnc_olfat_palad[\"PERD_PALA\"] != 9]\n",
        "tot_olfat_palad2 = dF_nDnc_olfat_palad.copy()\n",
        "\n",
        "dF_nDnc_olfat_palad = dF_nDnc_olfat_palad.loc[dF_nDnc_olfat_palad[\"PERD_OLFT\"] == 1]\n",
        "dF_nDnc_olfat_palad = dF_nDnc_olfat_palad.loc[dF_nDnc_olfat_palad[\"PERD_PALA\"] == 1]\n",
        "\n",
        "nDnc_positive_olfat_palad = dF_nDnc_olfat_palad.shape[0]\n",
        "tot6 = tot_olfat_palad2.shape[0] / 100\n",
        "\n",
        "print(f\"SEM DNC com perda de paladar e olfato: {nDnc_positive_olfat_palad}, percentualmente: {(nDnc_positive_olfat_palad / tot6):.2f}%.\")\n",
        "print(f\"{nDnc_positive_olfat_palad}, {tot_olfat_palad2.shape[0] - nDnc_positive_olfat_palad}.\")"
      ],
      "execution_count": 130,
      "outputs": [
        {
          "output_type": "stream",
          "text": [
            "DNC com perda de paladar e olfato: 562, percentualmente: 4.74%\n",
            "562, 11294.\n",
            "=-=-=-=-=-=-=-=-=-=-=-=-=-=-=-=-=-=-=-=-=-=-=-=-=-=-=-=-=-=-=-=\n",
            "SEM DNC com perda de paladar e olfato: 14045, percentualmente: 8.98%.\n",
            "14045, 142302.\n"
          ],
          "name": "stdout"
        }
      ]
    }
  ]
}